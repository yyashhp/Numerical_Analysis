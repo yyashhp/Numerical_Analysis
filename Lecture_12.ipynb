{
 "cells": [
  {
   "cell_type": "code",
   "execution_count": 1,
   "id": "d46412bb",
   "metadata": {},
   "outputs": [],
   "source": [
    "import numpy as np\n",
    "import matplotlib.pyplot as plt\n",
    "import math\n",
    "from math import pi as π"
   ]
  },
  {
   "cell_type": "code",
   "execution_count": 8,
   "id": "9c4ce745",
   "metadata": {},
   "outputs": [],
   "source": [
    "ω = 1.\n",
    "g = lambda x: np.cos(ω*x)"
   ]
  },
  {
   "cell_type": "code",
   "execution_count": 9,
   "id": "277f0085",
   "metadata": {},
   "outputs": [
    {
     "name": "stdout",
     "output_type": "stream",
     "text": [
      "1.0\n",
      "0.5403023058681398\n",
      "0.8575532158463934\n",
      "0.6542897904977791\n",
      "0.7934803587425656\n",
      "0.7013687736227565\n",
      "0.7639596829006542\n",
      "0.7221024250267079\n",
      "0.7504177617637604\n",
      "0.7314040424225099\n"
     ]
    }
   ],
   "source": [
    "x0 = 0\n",
    "xk = x0\n",
    "xs = [x0]\n",
    "for k in range(10):\n",
    "    xk = g(xk)\n",
    "    xs.append(xk)\n",
    "    print(xk)\n",
    "xs = np.asarray(xs)"
   ]
  },
  {
   "cell_type": "code",
   "execution_count": 10,
   "id": "4f6e64bc",
   "metadata": {},
   "outputs": [
    {
     "data": {
      "text/plain": [
       "array([0.        , 1.        , 0.54030231, 0.85755322, 0.65428979,\n",
       "       0.79348036, 0.70136877, 0.76395968, 0.72210243, 0.75041776,\n",
       "       0.73140404])"
      ]
     },
     "execution_count": 10,
     "metadata": {},
     "output_type": "execute_result"
    }
   ],
   "source": [
    "xs"
   ]
  },
  {
   "cell_type": "code",
   "execution_count": 15,
   "id": "de455f8e",
   "metadata": {},
   "outputs": [
    {
     "data": {
      "text/plain": [
       "(-0.07853981633974483,\n",
       " 1.6493361431346414,\n",
       " -0.07853981633974483,\n",
       " 1.6493361431346414)"
      ]
     },
     "execution_count": 15,
     "metadata": {},
     "output_type": "execute_result"
    },
    {
     "data": {
      "image/png": "[encoded data removed]",
      "text/plain": [
       "<Figure size 432x288 with 1 Axes>"
      ]
     },
     "metadata": {
      "needs_background": "light"
     },
     "output_type": "display_data"
    }
   ],
   "source": [
    "x = np.linspace(0,π/2,1000)\n",
    "plt.plot([0,π/2],[0,0], 'k', lw=0.5)\n",
    "plt.plot([0,0.0],[0,π/2], 'k', lw=0.5)\n",
    "plt.plot(x,g(x))\n",
    "plt.plot([0,1],[0,1])\n",
    "plt.axis('equal')"
   ]
  },
  {
   "cell_type": "code",
   "execution_count": 17,
   "id": "ab677b04",
   "metadata": {},
   "outputs": [
    {
     "data": {
      "text/plain": [
       "array([[0.        , 0.        , 1.        , 1.        , 0.54030231,\n",
       "        0.54030231, 0.85755322, 0.85755322, 0.65428979, 0.65428979,\n",
       "        0.79348036, 0.79348036, 0.70136877, 0.70136877, 0.76395968,\n",
       "        0.76395968, 0.72210243, 0.72210243, 0.75041776, 0.75041776,\n",
       "        0.73140404],\n",
       "       [0.        , 1.        , 1.        , 0.54030231, 0.54030231,\n",
       "        0.85755322, 0.85755322, 0.65428979, 0.65428979, 0.79348036,\n",
       "        0.79348036, 0.70136877, 0.70136877, 0.76395968, 0.76395968,\n",
       "        0.72210243, 0.72210243, 0.75041776, 0.75041776, 0.73140404,\n",
       "        0.73140404]])"
      ]
     },
     "execution_count": 17,
     "metadata": {},
     "output_type": "execute_result"
    }
   ],
   "source": [
    "steps = [(xs[0],0.)]\n",
    "for xk,xkp1 in zip(xs, xs[1:]):\n",
    "    steps.append([xk,xkp1])\n",
    "    steps.append([xkp1,xkp1])\n",
    "steps = np.asarray(steps).T\n",
    "steps"
   ]
  },
  {
   "cell_type": "code",
   "execution_count": 18,
   "id": "42645f32",
   "metadata": {},
   "outputs": [
    {
     "data": {
      "text/plain": [
       "(-0.07853981633974483,\n",
       " 1.6493361431346414,\n",
       " -0.07853981633974483,\n",
       " 1.6493361431346414)"
      ]
     },
     "execution_count": 18,
     "metadata": {},
     "output_type": "execute_result"
    },
    {
     "data": {
      "image/png": "[encoded data removed]",
      "text/plain": [
       "<Figure size 432x288 with 1 Axes>"
      ]
     },
     "metadata": {
      "needs_background": "light"
     },
     "output_type": "display_data"
    }
   ],
   "source": [
    "x = np.linspace(0,π/2,1000)\n",
    "plt.plot([0,π/2],[0,0], 'k', lw=0.5)\n",
    "plt.plot([0,0.0],[0,π/2], 'k', lw=0.5)\n",
    "plt.plot(x,g(x))\n",
    "plt.plot([0,1],[0,1])\n",
    "stepx,stepy = steps\n",
    "plt.plot(stepx,stepy)\n",
    "plt.axis('equal')"
   ]
  },
  {
   "cell_type": "code",
   "execution_count": 19,
   "id": "775952db",
   "metadata": {},
   "outputs": [],
   "source": [
    "ω = π/180"
   ]
  },
  {
   "cell_type": "code",
   "execution_count": 21,
   "id": "35a4d5b1",
   "metadata": {},
   "outputs": [],
   "source": [
    "def steps(xs):\n",
    "    results = [(xs[0],0.)]\n",
    "    for xk,xkp1 in zip(xs, xs[1:]):\n",
    "        results.append([xk,xkp1])\n",
    "        results.append([xkp1,xkp1])\n",
    "    return np.asarray(results).T"
   ]
  },
  {
   "cell_type": "code",
   "execution_count": 29,
   "id": "0f3a5d67",
   "metadata": {},
   "outputs": [
    {
     "name": "stdout",
     "output_type": "stream",
     "text": [
      "1.0\n",
      "0.9998476951563913\n",
      "0.9998477415452118\n",
      "0.9998477415310838\n",
      "0.9998477415310881\n",
      "0.9998477415310881\n",
      "0.9998477415310881\n",
      "0.9998477415310881\n",
      "0.9998477415310881\n",
      "0.9998477415310881\n"
     ]
    },
    {
     "data": {
      "text/plain": [
       "(-0.07853981633974483,\n",
       " 1.6493361431346414,\n",
       " -0.07853981633974483,\n",
       " 1.6493361431346414)"
      ]
     },
     "execution_count": 29,
     "metadata": {},
     "output_type": "execute_result"
    },
    {
     "data": {
      "image/png": "[encoded data removed]",
      "text/plain": [
       "<Figure size 432x288 with 1 Axes>"
      ]
     },
     "metadata": {
      "needs_background": "light"
     },
     "output_type": "display_data"
    }
   ],
   "source": [
    "x0,N = 0.,10\n",
    "ω = π/180\n",
    "xk = x0\n",
    "xs = [x0]\n",
    "for k in range(N):\n",
    "    xk = g(xk)\n",
    "    xs.append(xk)\n",
    "    print(xk)\n",
    "xs = np.asarray(xs)\n",
    "\n",
    "\n",
    "x = np.linspace(0,π/2,1000)\n",
    "plt.plot([0,π/2],[0,0], 'k', lw=0.5)\n",
    "plt.plot([0,0.0],[0,π/2], 'k', lw=0.5)\n",
    "plt.plot(x,g(x))\n",
    "plt.plot([0,1],[0,1])\n",
    "stepx,stepy = steps(xs)\n",
    "plt.plot(stepx,stepy)\n",
    "plt.axis('equal')"
   ]
  },
  {
   "cell_type": "code",
   "execution_count": 30,
   "id": "f99f70c2",
   "metadata": {},
   "outputs": [
    {
     "name": "stdout",
     "output_type": "stream",
     "text": [
      "1.0\n",
      "0.6216099682706645\n",
      "0.8475476811353472\n",
      "0.722909088577077\n",
      "0.7957095325002389\n",
      "0.7543462795487981\n",
      "0.778256603982999\n",
      "0.7645644947932888\n",
      "0.7724489334491222\n",
      "0.767923021493213\n"
     ]
    },
    {
     "data": {
      "text/plain": [
       "(-0.07853981633974483,\n",
       " 1.6493361431346414,\n",
       " -0.07853981633974483,\n",
       " 1.6493361431346414)"
      ]
     },
     "execution_count": 30,
     "metadata": {},
     "output_type": "execute_result"
    },
    {
     "data": {
      "image/png": "[encoded data removed]",
      "text/plain": [
       "<Figure size 432x288 with 1 Axes>"
      ]
     },
     "metadata": {
      "needs_background": "light"
     },
     "output_type": "display_data"
    }
   ],
   "source": [
    "ω = 0.9\n",
    "\n",
    "x0,N = 0.,10\n",
    "\n",
    "xk = x0\n",
    "xs = [x0]\n",
    "for k in range(N):\n",
    "    xk = g(xk)\n",
    "    xs.append(xk)\n",
    "    print(xk)\n",
    "xs = np.asarray(xs)\n",
    "\n",
    "\n",
    "x = np.linspace(0,π/2,1000)\n",
    "plt.plot([0,π/2],[0,0], 'k', lw=0.5)\n",
    "plt.plot([0,0.0],[0,π/2], 'k', lw=0.5)\n",
    "plt.plot(x,g(x))\n",
    "plt.plot([0,1],[0,1])\n",
    "stepx,stepy = steps(xs)\n",
    "plt.plot(stepx,stepy)\n",
    "plt.axis('equal')"
   ]
  },
  {
   "cell_type": "code",
   "execution_count": 31,
   "id": "9947bfb9",
   "metadata": {},
   "outputs": [
    {
     "name": "stdout",
     "output_type": "stream",
     "text": [
      "1.0\n",
      "0.8775825618903728\n",
      "0.9052658433204192\n",
      "0.8992987524273193\n",
      "0.9005995562628998\n",
      "0.9003166687393618\n",
      "0.9003782210722863\n",
      "0.9003648296865552\n",
      "0.9003677432021134\n",
      "0.9003671093224636\n"
     ]
    },
    {
     "data": {
      "text/plain": [
       "(-0.07853981633974483,\n",
       " 1.6493361431346414,\n",
       " -0.07853981633974483,\n",
       " 1.6493361431346414)"
      ]
     },
     "execution_count": 31,
     "metadata": {},
     "output_type": "execute_result"
    },
    {
     "data": {
      "image/png": "[encoded data removed]",
      "text/plain": [
       "<Figure size 432x288 with 1 Axes>"
      ]
     },
     "metadata": {
      "needs_background": "light"
     },
     "output_type": "display_data"
    }
   ],
   "source": [
    "ω = 0.5\n",
    "\n",
    "x0,N = 0.,10\n",
    "\n",
    "xk = x0\n",
    "xs = [x0]\n",
    "for k in range(N):\n",
    "    xk = g(xk)\n",
    "    xs.append(xk)\n",
    "    print(xk)\n",
    "xs = np.asarray(xs)\n",
    "\n",
    "\n",
    "x = np.linspace(0,π/2,1000)\n",
    "plt.plot([0,π/2],[0,0], 'k', lw=0.5)\n",
    "plt.plot([0,0.0],[0,π/2], 'k', lw=0.5)\n",
    "plt.plot(x,g(x))\n",
    "plt.plot([0,1],[0,1])\n",
    "stepx,stepy = steps(xs)\n",
    "plt.plot(stepx,stepy)\n",
    "plt.axis('equal')"
   ]
  },
  {
   "cell_type": "code",
   "execution_count": 34,
   "id": "85b2f9dc",
   "metadata": {},
   "outputs": [
    {
     "name": "stdout",
     "output_type": "stream",
     "text": [
      "1.0\n",
      "0.4535961214255773\n",
      "0.8780827312974185\n",
      "0.5686842011587304\n",
      "0.8106396584908147\n",
      "0.6280872754887984\n",
      "0.7706753662381551\n",
      "0.6616771761602576\n",
      "0.7466098456589949\n",
      "0.6812914944217142\n"
     ]
    },
    {
     "data": {
      "text/plain": [
       "(-0.07853981633974483,\n",
       " 1.6493361431346414,\n",
       " -0.24279600463198742,\n",
       " 1.6571578663866529)"
      ]
     },
     "execution_count": 34,
     "metadata": {},
     "output_type": "execute_result"
    },
    {
     "data": {
      "image/png": "[encoded data removed]",
      "text/plain": [
       "<Figure size 432x288 with 1 Axes>"
      ]
     },
     "metadata": {
      "needs_background": "light"
     },
     "output_type": "display_data"
    }
   ],
   "source": [
    "ω = 1.1\n",
    "\n",
    "x0,N = 0.,10\n",
    "\n",
    "xk = x0\n",
    "xs = [x0]\n",
    "for k in range(N):\n",
    "    xk = g(xk)\n",
    "    xs.append(xk)\n",
    "    print(xk)\n",
    "xs = np.asarray(xs)\n",
    "\n",
    "\n",
    "x = np.linspace(0,π/2,1000)\n",
    "plt.plot([0,π/2],[0,0], 'k', lw=0.5)\n",
    "plt.plot([0,0.0],[0,π/2], 'k', lw=0.5)\n",
    "plt.plot(x,g(x))\n",
    "plt.plot([0,1],[0,1])\n",
    "stepx,stepy = steps(xs)\n",
    "plt.plot(stepx,stepy)\n",
    "plt.axis('equal')"
   ]
  },
  {
   "cell_type": "code",
   "execution_count": 35,
   "id": "297bcabd",
   "metadata": {},
   "outputs": [
    {
     "name": "stdout",
     "output_type": "stream",
     "text": [
      "1.0\n",
      "0.4535961214255773\n",
      "0.8780827312974185\n",
      "0.5686842011587304\n",
      "0.8106396584908147\n",
      "0.6280872754887984\n",
      "0.7706753662381551\n",
      "0.6616771761602576\n",
      "0.7466098456589949\n",
      "0.6812914944217142\n",
      "0.7320836576529882\n",
      "0.6929007060430037\n",
      "0.7233249995090616\n",
      "0.699815249771636\n",
      "0.7180521270436733\n",
      "0.7039466476664042\n",
      "0.7148817733191577\n",
      "0.7064192900524396\n",
      "0.7129772493150952\n",
      "0.7079005496580726\n"
     ]
    },
    {
     "data": {
      "text/plain": [
       "(-0.07853981633974483,\n",
       " 1.6493361431346414,\n",
       " -0.24279600463198742,\n",
       " 1.6571578663866529)"
      ]
     },
     "execution_count": 35,
     "metadata": {},
     "output_type": "execute_result"
    },
    {
     "data": {
      "image/png": "[encoded data removed]",
      "text/plain": [
       "<Figure size 432x288 with 1 Axes>"
      ]
     },
     "metadata": {
      "needs_background": "light"
     },
     "output_type": "display_data"
    }
   ],
   "source": [
    "ω = 1.1\n",
    "\n",
    "x0,N = 0.,20\n",
    "\n",
    "xk = x0\n",
    "xs = [x0]\n",
    "for k in range(N):\n",
    "    xk = g(xk)\n",
    "    xs.append(xk)\n",
    "    print(xk)\n",
    "xs = np.asarray(xs)\n",
    "\n",
    "\n",
    "x = np.linspace(0,π/2,1000)\n",
    "plt.plot([0,π/2],[0,0], 'k', lw=0.5)\n",
    "plt.plot([0,0.0],[0,π/2], 'k', lw=0.5)\n",
    "plt.plot(x,g(x))\n",
    "plt.plot([0,1],[0,1])\n",
    "stepx,stepy = steps(xs)\n",
    "plt.plot(stepx,stepy)\n",
    "plt.axis('equal')"
   ]
  },
  {
   "cell_type": "code",
   "execution_count": 36,
   "id": "4211b8cf",
   "metadata": {},
   "outputs": [
    {
     "name": "stdout",
     "output_type": "stream",
     "text": [
      "1.0\n",
      "0.3623577544766736\n",
      "0.9069419615791002\n",
      "0.46396507472260107\n",
      "0.8489727137063329\n",
      "0.5244159839873797\n",
      "0.8084401938148551\n",
      "0.565193749291433\n",
      "0.778682895785547\n",
      "0.5942854162126121\n"
     ]
    },
    {
     "data": {
      "text/plain": [
       "(-0.07853981633974483,\n",
       " 1.6493361431346414,\n",
       " -0.40300766043343955,\n",
       " 1.6647869928533887)"
      ]
     },
     "execution_count": 36,
     "metadata": {},
     "output_type": "execute_result"
    },
    {
     "data": {
      "image/png": "[encoded data removed]",
      "text/plain": [
       "<Figure size 432x288 with 1 Axes>"
      ]
     },
     "metadata": {
      "needs_background": "light"
     },
     "output_type": "display_data"
    }
   ],
   "source": [
    "ω = 1.2\n",
    "\n",
    "x0,N = 0.,10\n",
    "\n",
    "xk = x0\n",
    "xs = [x0]\n",
    "for k in range(N):\n",
    "    xk = g(xk)\n",
    "    xs.append(xk)\n",
    "    print(xk)\n",
    "xs = np.asarray(xs)\n",
    "\n",
    "\n",
    "x = np.linspace(0,π/2,1000)\n",
    "plt.plot([0,π/2],[0,0], 'k', lw=0.5)\n",
    "plt.plot([0,0.0],[0,π/2], 'k', lw=0.5)\n",
    "plt.plot(x,g(x))\n",
    "plt.plot([0,1],[0,1])\n",
    "stepx,stepy = steps(xs)\n",
    "plt.plot(stepx,stepy)\n",
    "plt.axis('equal')"
   ]
  },
  {
   "cell_type": "code",
   "execution_count": 37,
   "id": "bb317a66",
   "metadata": {},
   "outputs": [
    {
     "name": "stdout",
     "output_type": "stream",
     "text": [
      "1.0\n",
      "0.3623577544766736\n",
      "0.9069419615791002\n",
      "0.46396507472260107\n",
      "0.8489727137063329\n",
      "0.5244159839873797\n",
      "0.8084401938148551\n",
      "0.565193749291433\n",
      "0.778682895785547\n",
      "0.5942854162126121\n",
      "0.7563097475681336\n",
      "0.6156610923171282\n",
      "0.7392816768443393\n",
      "0.6316334156414599\n",
      "0.7262398333774827\n",
      "0.6436886653490839\n",
      "0.7162194565100667\n",
      "0.652844072064459\n",
      "0.7085091895689766\n",
      "0.6598245903780242\n",
      "0.7025730061687606\n",
      "0.6651604823193179\n",
      "0.6980021352694558\n",
      "0.6692461414130214\n",
      "0.6944828929082238\n",
      "0.6723780929718605\n",
      "0.6917738328366697\n",
      "0.6747808569565259\n",
      "0.6896888761036226\n",
      "0.6766252261556562\n"
     ]
    },
    {
     "data": {
      "text/plain": [
       "(-0.07853981633974483,\n",
       " 1.6493361431346414,\n",
       " -0.40300766043343955,\n",
       " 1.6647869928533887)"
      ]
     },
     "execution_count": 37,
     "metadata": {},
     "output_type": "execute_result"
    },
    {
     "data": {
      "image/png": "[encoded data removed]",
      "text/plain": [
       "<Figure size 432x288 with 1 Axes>"
      ]
     },
     "metadata": {
      "needs_background": "light"
     },
     "output_type": "display_data"
    }
   ],
   "source": [
    "ω = 1.2\n",
    "\n",
    "x0,N = 0.,30\n",
    "\n",
    "xk = x0\n",
    "xs = [x0]\n",
    "for k in range(N):\n",
    "    xk = g(xk)\n",
    "    xs.append(xk)\n",
    "    print(xk)\n",
    "xs = np.asarray(xs)\n",
    "\n",
    "\n",
    "x = np.linspace(0,π/2,1000)\n",
    "plt.plot([0,π/2],[0,0], 'k', lw=0.5)\n",
    "plt.plot([0,0.0],[0,π/2], 'k', lw=0.5)\n",
    "plt.plot(x,g(x))\n",
    "plt.plot([0,1],[0,1])\n",
    "stepx,stepy = steps(xs)\n",
    "plt.plot(stepx,stepy)\n",
    "plt.axis('equal')"
   ]
  },
  {
   "cell_type": "code",
   "execution_count": 40,
   "id": "35a1fd01",
   "metadata": {},
   "outputs": [
    {
     "data": {
      "text/plain": [
       "(-0.07853981633974483,\n",
       " 1.6493361431346414,\n",
       " -0.5552298410662689,\n",
       " 1.6720356681216186)"
      ]
     },
     "execution_count": 40,
     "metadata": {},
     "output_type": "execute_result"
    },
    {
     "data": {
      "image/png": "[encoded data removed]",
      "text/plain": [
       "<Figure size 432x288 with 1 Axes>"
      ]
     },
     "metadata": {
      "needs_background": "light"
     },
     "output_type": "display_data"
    }
   ],
   "source": [
    "ω = 1.3\n",
    "\n",
    "x0,N = 0.,1000\n",
    "\n",
    "xk = x0\n",
    "xs = [x0]\n",
    "for k in range(N):\n",
    "    xk = g(xk)\n",
    "    xs.append(xk)\n",
    "    #print(xk)\n",
    "xs = np.asarray(xs)\n",
    "\n",
    "\n",
    "x = np.linspace(0,π/2,1000)\n",
    "plt.plot([0,π/2],[0,0], 'k', lw=0.5)\n",
    "plt.plot([0,0.0],[0,π/2], 'k', lw=0.5)\n",
    "plt.plot(x,g(x))\n",
    "plt.plot([0,1],[0,1])\n",
    "stepx,stepy = steps(xs)\n",
    "plt.plot(stepx,stepy)\n",
    "plt.axis('equal')"
   ]
  },
  {
   "cell_type": "code",
   "execution_count": 44,
   "id": "b75f9d16",
   "metadata": {},
   "outputs": [
    {
     "data": {
      "text/plain": [
       "(-0.07853981633974483,\n",
       " 1.6493361431346414,\n",
       " -0.6957143312468415,\n",
       " 1.678725405749265)"
      ]
     },
     "execution_count": 44,
     "metadata": {},
     "output_type": "execute_result"
    },
    {
     "data": {
      "image/png": "[encoded data removed]",
      "text/plain": [
       "<Figure size 432x288 with 1 Axes>"
      ]
     },
     "metadata": {
      "needs_background": "light"
     },
     "output_type": "display_data"
    }
   ],
   "source": [
    "ω = 1.4\n",
    "\n",
    "x0,N = 0.,1000\n",
    "\n",
    "xk = x0\n",
    "xs = [x0]\n",
    "for k in range(N):\n",
    "    xk = g(xk)\n",
    "    xs.append(xk)\n",
    "    #print(xk)\n",
    "xs = np.asarray(xs)\n",
    "\n",
    "\n",
    "x = np.linspace(0,π/2,1000)\n",
    "plt.plot([0,π/2],[0,0], 'k', lw=0.5)\n",
    "plt.plot([0,0.0],[0,π/2], 'k', lw=0.5)\n",
    "plt.plot(x,g(x))\n",
    "plt.plot([0,1],[0,1])\n",
    "stepx,stepy = steps(xs[100:])\n",
    "plt.plot(stepx,stepy)\n",
    "plt.axis('equal') #Period 2 orbit"
   ]
  },
  {
   "cell_type": "code",
   "execution_count": 46,
   "id": "cf9d85ed",
   "metadata": {},
   "outputs": [
    {
     "data": {
      "text/plain": [
       "array([0.93520971, 0.25853249, 0.93520971, 0.25853249, 0.93520971,\n",
       "       0.25853249, 0.93520971, 0.25853249, 0.93520971, 0.25853249,\n",
       "       0.93520971, 0.25853249, 0.93520971, 0.25853249, 0.93520971,\n",
       "       0.25853249, 0.93520971, 0.25853249, 0.93520971, 0.25853249])"
      ]
     },
     "execution_count": 46,
     "metadata": {},
     "output_type": "execute_result"
    }
   ],
   "source": [
    "xs[-20:]"
   ]
  },
  {
   "cell_type": "code",
   "execution_count": 49,
   "id": "e14b6e0f",
   "metadata": {},
   "outputs": [
    {
     "data": {
      "text/plain": [
       "(-0.4170872921013924,\n",
       " 1.6654574515042437,\n",
       " -1.1156125739646394,\n",
       " 1.6987205601643982)"
      ]
     },
     "execution_count": 49,
     "metadata": {},
     "output_type": "execute_result"
    },
    {
     "data": {
      "image/png": "[encoded data removed]",
      "text/plain": [
       "<Figure size 432x288 with 1 Axes>"
      ]
     },
     "metadata": {
      "needs_background": "light"
     },
     "output_type": "display_data"
    }
   ],
   "source": [
    "ω = 1.9\n",
    "\n",
    "x0,N = 0.,1000\n",
    "\n",
    "xk = x0\n",
    "xs = [x0]\n",
    "for k in range(N):\n",
    "    xk = g(xk)\n",
    "    xs.append(xk)\n",
    "    #print(xk)\n",
    "xs = np.asarray(xs)\n",
    "\n",
    "\n",
    "x = np.linspace(0,π/2,1000)\n",
    "plt.plot([0,π/2],[0,0], 'k', lw=0.5)\n",
    "plt.plot([0,0.0],[0,π/2], 'k', lw=0.5)\n",
    "plt.plot(x,g(x))\n",
    "plt.plot([0,1],[0,1])\n",
    "stepx,stepy = steps(xs[100:])\n",
    "plt.plot(stepx,stepy)\n",
    "plt.axis('equal') #Period 4 orbit"
   ]
  },
  {
   "cell_type": "markdown",
   "id": "0958b195",
   "metadata": {},
   "source": [
    "Newton's Method "
   ]
  },
  {
   "cell_type": "markdown",
   "id": "6a0d4e58",
   "metadata": {},
   "source": [
    "$$\n",
    "    l(x) = f'(x_0)(x-x_0) + f(x_0)\n",
    "$$\n",
    "\n",
    "\n",
    "$$\n",
    "    l(x_1) = f'(x_0)(x_1-x_0) + f(x_0)\n",
    "$$\n",
    "\n",
    "\n",
    "$$\n",
    "    (x_1-x_0) = \\frac {-f(x_0)}{f'(x_0)}\n",
    "$$ \n",
    "\n",
    "\n",
    "$$\n",
    "    x_1 = x_0 - \\frac {f(x_0)}{f'(x_0)}\n",
    "$$\n",
    "\n",
    "\n",
    "$$\n",
    "    x_2 = x_1 - \\frac {f(x_1)}{f'(x_1)}\n",
    "$$"
   ]
  },
  {
   "cell_type": "markdown",
   "id": "43c65a70",
   "metadata": {},
   "source": [
    "### Example\n",
    "\n",
    "$$\n",
    "    f(x) = x^5 - x + 2\n",
    "$$"
   ]
  },
  {
   "cell_type": "code",
   "execution_count": 58,
   "id": "cf91c652",
   "metadata": {},
   "outputs": [],
   "source": [
    "f = lambda x: x**5 - x + 2\n",
    "fp = lambda x: 5*x**4 - 1"
   ]
  },
  {
   "cell_type": "code",
   "execution_count": 59,
   "id": "1371adf7",
   "metadata": {},
   "outputs": [],
   "source": [
    "g = lambda x: x - f(x)/fp(x)"
   ]
  },
  {
   "cell_type": "code",
   "execution_count": 60,
   "id": "2f85d891",
   "metadata": {},
   "outputs": [],
   "source": [
    "x0 = 5\n",
    "xs = [x0]\n",
    "for k in range(100):\n",
    "    xs.append(g(xs[-1]))\n",
    "    "
   ]
  },
  {
   "cell_type": "code",
   "execution_count": 61,
   "id": "304a3163",
   "metadata": {},
   "outputs": [
    {
     "data": {
      "text/plain": [
       "[-1.2671683045421243,\n",
       " -1.2671683045421243,\n",
       " -1.2671683045421243,\n",
       " -1.2671683045421243,\n",
       " -1.2671683045421243,\n",
       " -1.2671683045421243,\n",
       " -1.2671683045421243,\n",
       " -1.2671683045421243,\n",
       " -1.2671683045421243,\n",
       " -1.2671683045421243,\n",
       " -1.2671683045421243,\n",
       " -1.2671683045421243,\n",
       " -1.2671683045421243,\n",
       " -1.2671683045421243,\n",
       " -1.2671683045421243,\n",
       " -1.2671683045421243,\n",
       " -1.2671683045421243,\n",
       " -1.2671683045421243,\n",
       " -1.2671683045421243,\n",
       " -1.2671683045421243]"
      ]
     },
     "execution_count": 61,
     "metadata": {},
     "output_type": "execute_result"
    }
   ],
   "source": [
    "xs[-20:]"
   ]
  },
  {
   "cell_type": "code",
   "execution_count": 62,
   "id": "b73899a4",
   "metadata": {},
   "outputs": [
    {
     "data": {
      "text/plain": [
       "[-1.2671683045421243,\n",
       " -1.2671683045421243,\n",
       " -1.2671683045421243,\n",
       " -1.2671683045421243,\n",
       " -1.2671683045421243,\n",
       " -1.2671683045421243,\n",
       " -1.2671683045421243,\n",
       " -1.2671683045421243,\n",
       " -1.2671683045421243,\n",
       " -1.2671683045421243,\n",
       " -1.2671683045421243,\n",
       " -1.2671683045421243,\n",
       " -1.2671683045421243,\n",
       " -1.2671683045421243,\n",
       " -1.2671683045421243,\n",
       " -1.2671683045421243,\n",
       " -1.2671683045421243,\n",
       " -1.2671683045421243,\n",
       " -1.2671683045421243,\n",
       " -1.2671683045421243]"
      ]
     },
     "execution_count": 62,
     "metadata": {},
     "output_type": "execute_result"
    }
   ],
   "source": [
    "x0 = -1.4\n",
    "xs = [x0]\n",
    "for k in range(100):\n",
    "    xs.append(g(xs[-1]))\n",
    "xs[-20:]"
   ]
  },
  {
   "cell_type": "code",
   "execution_count": null,
   "id": "ae181a2f",
   "metadata": {},
   "outputs": [],
   "source": []
  }
 ],
 "metadata": {
  "kernelspec": {
   "display_name": "Python 3 (ipykernel)",
   "language": "python",
   "name": "python3"
  },
  "language_info": {
   "codemirror_mode": {
    "name": "ipython",
    "version": 3
   },
   "file_extension": ".py",
   "mimetype": "text/x-python",
   "name": "python",
   "nbconvert_exporter": "python",
   "pygments_lexer": "ipython3",
   "version": "3.9.12"
  }
 },
 "nbformat": 4,
 "nbformat_minor": 5
}
