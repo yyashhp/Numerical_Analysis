{
 "cells": [
  {
   "cell_type": "markdown",
   "id": "3c329e77",
   "metadata": {},
   "source": [
    "## Dictionaries and Sets in Python "
   ]
  },
  {
   "cell_type": "code",
   "execution_count": 1,
   "id": "6bc98dce",
   "metadata": {},
   "outputs": [
    {
     "data": {
      "text/plain": [
       "dict"
      ]
     },
     "execution_count": 1,
     "metadata": {},
     "output_type": "execute_result"
    }
   ],
   "source": [
    "bob = {'Name': 'Bob Dylan'}\n",
    "type(bob)"
   ]
  },
  {
   "cell_type": "code",
   "execution_count": 6,
   "id": "f1170b73",
   "metadata": {},
   "outputs": [
    {
     "data": {
      "text/plain": [
       "{'Name': 'Bob Dylan', 'Age': 82, 'Place of Birth': 'Duluth, MN'}"
      ]
     },
     "execution_count": 6,
     "metadata": {},
     "output_type": "execute_result"
    }
   ],
   "source": [
    "bob['Age'] = 82\n",
    "bob['Place of Birth'] = 'Duluth, MN'\n",
    "bob"
   ]
  },
  {
   "cell_type": "code",
   "execution_count": 8,
   "id": "deed7421",
   "metadata": {},
   "outputs": [
    {
     "data": {
      "text/plain": [
       "{'Name': 'Bob Dylan',\n",
       " 'Age': 82,\n",
       " 'Place of Birth': 'Duluth, MN',\n",
       " 72: 'silly index',\n",
       " 'children': ['Jesse', 'Jakob', '...']}"
      ]
     },
     "execution_count": 8,
     "metadata": {},
     "output_type": "execute_result"
    }
   ],
   "source": [
    "bob[72] = 'silly index'\n",
    "bob['children'] = ['Jesse', 'Jakob', '...']\n",
    "bob"
   ]
  },
  {
   "cell_type": "code",
   "execution_count": 10,
   "id": "a73aa0ba",
   "metadata": {},
   "outputs": [
    {
     "data": {
      "text/plain": [
       "dict_keys(['Name', 'Age', 'Place of Birth', 72, 'children'])"
      ]
     },
     "execution_count": 10,
     "metadata": {},
     "output_type": "execute_result"
    }
   ],
   "source": [
    "bob.keys()"
   ]
  },
  {
   "cell_type": "code",
   "execution_count": 11,
   "id": "5a31bef7",
   "metadata": {},
   "outputs": [
    {
     "data": {
      "text/plain": [
       "dict_values(['Bob Dylan', 82, 'Duluth, MN', 'silly index', ['Jesse', 'Jakob', '...']])"
      ]
     },
     "execution_count": 11,
     "metadata": {},
     "output_type": "execute_result"
    }
   ],
   "source": [
    "bob.values()"
   ]
  },
  {
   "cell_type": "code",
   "execution_count": 12,
   "id": "ecad61b8",
   "metadata": {},
   "outputs": [
    {
     "data": {
      "text/plain": [
       "dict_items([('Name', 'Bob Dylan'), ('Age', 82), ('Place of Birth', 'Duluth, MN'), (72, 'silly index'), ('children', ['Jesse', 'Jakob', '...'])])"
      ]
     },
     "execution_count": 12,
     "metadata": {},
     "output_type": "execute_result"
    }
   ],
   "source": [
    "bob.items()"
   ]
  },
  {
   "cell_type": "code",
   "execution_count": 13,
   "id": "0f9eabff",
   "metadata": {},
   "outputs": [
    {
     "data": {
      "text/plain": [
       "'silly index'"
      ]
     },
     "execution_count": 13,
     "metadata": {},
     "output_type": "execute_result"
    }
   ],
   "source": [
    "bob.pop(72) #returns item with the key of 72, and also removes the pair from the dictionary"
   ]
  },
  {
   "cell_type": "code",
   "execution_count": 14,
   "id": "0f2569c7",
   "metadata": {},
   "outputs": [
    {
     "data": {
      "text/plain": [
       "{'Name': 'Bob Dylan',\n",
       " 'Age': 82,\n",
       " 'Place of Birth': 'Duluth, MN',\n",
       " 'children': ['Jesse', 'Jakob', '...']}"
      ]
     },
     "execution_count": 14,
     "metadata": {},
     "output_type": "execute_result"
    }
   ],
   "source": [
    "bob"
   ]
  },
  {
   "cell_type": "markdown",
   "id": "25478e95",
   "metadata": {},
   "source": [
    "## Sets"
   ]
  },
  {
   "cell_type": "code",
   "execution_count": 19,
   "id": "6b9a2459",
   "metadata": {},
   "outputs": [
    {
     "data": {
      "text/plain": [
       "{0, 1, 2, 14, 15}"
      ]
     },
     "execution_count": 19,
     "metadata": {},
     "output_type": "execute_result"
    }
   ],
   "source": [
    "myset = {0,1,2,14,15}\n",
    "myset"
   ]
  },
  {
   "cell_type": "code",
   "execution_count": 20,
   "id": "2ff4b551",
   "metadata": {},
   "outputs": [
    {
     "data": {
      "text/plain": [
       "set"
      ]
     },
     "execution_count": 20,
     "metadata": {},
     "output_type": "execute_result"
    }
   ],
   "source": [
    "type(myset)"
   ]
  },
  {
   "cell_type": "code",
   "execution_count": 21,
   "id": "bf8e4622",
   "metadata": {},
   "outputs": [
    {
     "data": {
      "text/plain": [
       "{0, 1, 2, 14, 15}"
      ]
     },
     "execution_count": 21,
     "metadata": {},
     "output_type": "execute_result"
    }
   ],
   "source": [
    "myset"
   ]
  },
  {
   "cell_type": "code",
   "execution_count": 22,
   "id": "33b9651a",
   "metadata": {},
   "outputs": [
    {
     "data": {
      "text/plain": [
       "(False, True)"
      ]
     },
     "execution_count": 22,
     "metadata": {},
     "output_type": "execute_result"
    }
   ],
   "source": [
    "a = 'bob'\n",
    "b = 'bot'.replace('t', 'b') #memory is different but values are not\n",
    "a is b, a==b"
   ]
  },
  {
   "cell_type": "code",
   "execution_count": 23,
   "id": "30a38168",
   "metadata": {},
   "outputs": [
    {
     "data": {
      "text/plain": [
       "{0, 1, 2, 3, 4, 5, 14, 15}"
      ]
     },
     "execution_count": 23,
     "metadata": {},
     "output_type": "execute_result"
    }
   ],
   "source": [
    "myset2 = {1,2,3,4,5}\n",
    "myset.union(myset2)"
   ]
  },
  {
   "cell_type": "markdown",
   "id": "9ffcef53",
   "metadata": {},
   "source": [
    "## Iterables and Looping"
   ]
  },
  {
   "cell_type": "code",
   "execution_count": 25,
   "id": "8e2de7f9",
   "metadata": {},
   "outputs": [
    {
     "data": {
      "text/plain": [
       "{0, 1, 2, 14, 15}"
      ]
     },
     "execution_count": 25,
     "metadata": {},
     "output_type": "execute_result"
    }
   ],
   "source": [
    "myset"
   ]
  },
  {
   "cell_type": "code",
   "execution_count": 24,
   "id": "3f71377e",
   "metadata": {},
   "outputs": [
    {
     "name": "stdout",
     "output_type": "stream",
     "text": [
      "0\n",
      "1\n",
      "2\n",
      "14\n",
      "15\n"
     ]
    }
   ],
   "source": [
    "for item in myset:\n",
    "    print(item)"
   ]
  },
  {
   "cell_type": "code",
   "execution_count": 26,
   "id": "8e0c8db7",
   "metadata": {},
   "outputs": [
    {
     "name": "stdout",
     "output_type": "stream",
     "text": [
      "h\n",
      "e\n",
      "l\n",
      "l\n",
      "o\n"
     ]
    }
   ],
   "source": [
    "for char in 'hello':\n",
    "    print(char)"
   ]
  },
  {
   "cell_type": "code",
   "execution_count": 27,
   "id": "00f58001",
   "metadata": {},
   "outputs": [
    {
     "name": "stdout",
     "output_type": "stream",
     "text": [
      "1\n",
      "2\n",
      "3\n",
      "4\n",
      "5\n",
      "6\n",
      "7\n",
      "8\n",
      "9\n",
      "10\n",
      "11\n",
      "12\n",
      "13\n",
      "14\n",
      "15\n",
      "16\n",
      "17\n",
      "18\n",
      "19\n",
      "20\n"
     ]
    }
   ],
   "source": [
    "iterate = 0\n",
    "maxits = 20\n",
    "while iterate<maxits:\n",
    "    iterate += 1\n",
    "    print(iterate)\n"
   ]
  },
  {
   "cell_type": "markdown",
   "id": "7dba49ec",
   "metadata": {},
   "source": [
    "## Errors\n",
    "\n",
    "Situation; true value $u$ , approximate value $v$\n",
    "\n",
    "$$\n",
    "    e = v - u\n",
    "$$\n",
    "absolute error\n",
    "$$\n",
    "    | v - u |\n",
    "$$\n",
    "\n",
    "relative error\n",
    "$$\n",
    "    | v - u | \\over |u|\n",
    "$$"
   ]
  },
  {
   "cell_type": "code",
   "execution_count": 28,
   "id": "477a6d02",
   "metadata": {},
   "outputs": [],
   "source": [
    "import math"
   ]
  },
  {
   "cell_type": "code",
   "execution_count": 31,
   "id": "ed312175",
   "metadata": {},
   "outputs": [
    {
     "data": {
      "text/plain": [
       "(0.09983341664682815, 0.1)"
      ]
     },
     "execution_count": 31,
     "metadata": {},
     "output_type": "execute_result"
    }
   ],
   "source": [
    "#imagine f(x) = sin(x); f(x) is approximately = x when x is small\n",
    "\n",
    "theta = 0.1\n",
    "u = math.sin(0.1)\n",
    "u,theta"
   ]
  },
  {
   "cell_type": "code",
   "execution_count": 32,
   "id": "037a5231",
   "metadata": {},
   "outputs": [
    {
     "data": {
      "text/plain": [
       "(0.0001665833531718508, 0.001668613163477696)"
      ]
     },
     "execution_count": 32,
     "metadata": {},
     "output_type": "execute_result"
    }
   ],
   "source": [
    "err = (theta-u)\n",
    "abserr = abs(theta-u)/abs(u)\n",
    "err,abserr"
   ]
  },
  {
   "cell_type": "code",
   "execution_count": 33,
   "id": "07aeea51",
   "metadata": {},
   "outputs": [
    {
     "data": {
      "text/plain": [
       "0.09983333333333334"
      ]
     },
     "execution_count": 33,
     "metadata": {},
     "output_type": "execute_result"
    }
   ],
   "source": [
    "#imagine f(x) = x-(x^3/3!); f(x) is approximately = sin(x) if x is small\n",
    "v = theta - theta**3/6\n",
    "v"
   ]
  },
  {
   "cell_type": "code",
   "execution_count": 34,
   "id": "f2914686",
   "metadata": {},
   "outputs": [
    {
     "data": {
      "text/plain": [
       "(-8.331349481138783e-08, 8.345251280552544e-07)"
      ]
     },
     "execution_count": 34,
     "metadata": {},
     "output_type": "execute_result"
    }
   ],
   "source": [
    "err = (v-u)\n",
    "abserr = abs(v-u)/abs(u)\n",
    "err,abserr"
   ]
  },
  {
   "cell_type": "code",
   "execution_count": 35,
   "id": "d2410866",
   "metadata": {},
   "outputs": [
    {
     "data": {
      "text/plain": [
       "'-0x1.65d4280300000p-24'"
      ]
     },
     "execution_count": 35,
     "metadata": {},
     "output_type": "execute_result"
    }
   ],
   "source": [
    "err.hex() # we see that precision is low (by the 0s) when there's low difference between true and approx. value"
   ]
  }
 ],
 "metadata": {
  "kernelspec": {
   "display_name": "Python 3 (ipykernel)",
   "language": "python",
   "name": "python3"
  },
  "language_info": {
   "codemirror_mode": {
    "name": "ipython",
    "version": 3
   },
   "file_extension": ".py",
   "mimetype": "text/x-python",
   "name": "python",
   "nbconvert_exporter": "python",
   "pygments_lexer": "ipython3",
   "version": "3.9.12"
  }
 },
 "nbformat": 4,
 "nbformat_minor": 5
}
