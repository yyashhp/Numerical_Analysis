{
 "cells": [
  {
   "cell_type": "markdown",
   "id": "b2658ffa",
   "metadata": {},
   "source": [
    "## Numerical differentiation\n",
    "Recall that the limit as h approaches 0 of (cos(1+h)-cos(1))/h -> -sin(1)\n",
    "  "
   ]
  },
  {
   "cell_type": "code",
   "execution_count": 6,
   "id": "56a68a91",
   "metadata": {},
   "outputs": [],
   "source": [
    "import math, numpy as np, matplotlib.pyplot as plt"
   ]
  },
  {
   "cell_type": "code",
   "execution_count": 7,
   "id": "1b7e5972",
   "metadata": {},
   "outputs": [],
   "source": [
    "h = 1e-5"
   ]
  },
  {
   "cell_type": "code",
   "execution_count": 8,
   "id": "d451968e",
   "metadata": {},
   "outputs": [
    {
     "data": {
      "text/plain": [
       "-0.8414736863082694"
      ]
     },
     "execution_count": 8,
     "metadata": {},
     "output_type": "execute_result"
    }
   ],
   "source": [
    "(math.cos(1.+h)-math.cos(1.))/h"
   ]
  },
  {
   "cell_type": "code",
   "execution_count": 10,
   "id": "88995abb",
   "metadata": {},
   "outputs": [
    {
     "data": {
      "text/plain": [
       "-0.8414709848078965"
      ]
     },
     "execution_count": 10,
     "metadata": {},
     "output_type": "execute_result"
    }
   ],
   "source": [
    "-math.sin(1)"
   ]
  },
  {
   "cell_type": "code",
   "execution_count": 11,
   "id": "e0185689",
   "metadata": {},
   "outputs": [],
   "source": [
    "h = 2**-52"
   ]
  },
  {
   "cell_type": "code",
   "execution_count": 12,
   "id": "ecd05917",
   "metadata": {},
   "outputs": [
    {
     "data": {
      "text/plain": [
       "-1.0"
      ]
     },
     "execution_count": 12,
     "metadata": {},
     "output_type": "execute_result"
    }
   ],
   "source": [
    "(math.cos(1.+h)-math.cos(1.))/h"
   ]
  },
  {
   "cell_type": "code",
   "execution_count": 13,
   "id": "ad0c0fa9",
   "metadata": {},
   "outputs": [
    {
     "data": {
      "text/plain": [
       "'0x1.0000000000000p+0'"
      ]
     },
     "execution_count": 13,
     "metadata": {},
     "output_type": "execute_result"
    }
   ],
   "source": [
    "h = 2**-53\n",
    "(1+h).hex()"
   ]
  },
  {
   "cell_type": "code",
   "execution_count": 14,
   "id": "de20cd40",
   "metadata": {},
   "outputs": [
    {
     "data": {
      "text/plain": [
       "0.0"
      ]
     },
     "execution_count": 14,
     "metadata": {},
     "output_type": "execute_result"
    }
   ],
   "source": [
    "(math.cos(1.+h)-math.cos(1.))/h"
   ]
  },
  {
   "cell_type": "code",
   "execution_count": 20,
   "id": "13199ed4",
   "metadata": {},
   "outputs": [
    {
     "data": {
      "text/plain": [
       "array([1.e-01, 1.e-02, 1.e-03, 1.e-04, 1.e-05, 1.e-06, 1.e-07, 1.e-08,\n",
       "       1.e-09, 1.e-10, 1.e-11, 1.e-12, 1.e-13, 1.e-14, 1.e-15, 1.e-16,\n",
       "       1.e-17])"
      ]
     },
     "execution_count": 20,
     "metadata": {},
     "output_type": "execute_result"
    }
   ],
   "source": [
    "h = np.logspace(-1,-17,17)\n",
    "h"
   ]
  },
  {
   "cell_type": "code",
   "execution_count": 21,
   "id": "4729c3a5",
   "metadata": {},
   "outputs": [
    {
     "data": {
      "text/plain": [
       "(1.0, 1.0, 1.000000000000001)"
      ]
     },
     "execution_count": 21,
     "metadata": {},
     "output_type": "execute_result"
    }
   ],
   "source": [
    "(1+h)[-1],(1+h)[-2],(1+h[-3]) #We can see that the third last entry does not round down to 1"
   ]
  },
  {
   "cell_type": "code",
   "execution_count": 22,
   "id": "a3aa1a67",
   "metadata": {},
   "outputs": [
    {
     "data": {
      "text/plain": [
       "array([0.45359612, 0.53186072, 0.53946056, 0.54021816, 0.54029389,\n",
       "       0.54030146, 0.54030222, 0.5403023 , 0.54030231, 0.54030231,\n",
       "       0.54030231, 0.54030231, 0.54030231, 0.54030231, 0.54030231,\n",
       "       0.54030231, 0.54030231])"
      ]
     },
     "execution_count": 22,
     "metadata": {},
     "output_type": "execute_result"
    }
   ],
   "source": [
    "np.cos(1+h)"
   ]
  },
  {
   "cell_type": "code",
   "execution_count": 26,
   "id": "a6f42be1",
   "metadata": {},
   "outputs": [
    {
     "data": {
      "text/plain": [
       "array([-0.86706184, -0.84415845, -0.841741  , -0.841498  , -0.84147369,\n",
       "       -0.84147125, -0.84147101, -0.84147098, -0.84147112, -0.84147134,\n",
       "       -0.84147134, -0.84154905, -0.84043883, -0.8437695 , -0.88817842,\n",
       "        0.        ,  0.        ])"
      ]
     },
     "execution_count": 26,
     "metadata": {},
     "output_type": "execute_result"
    }
   ],
   "source": [
    "est = (np.cos(1+h) - np.cos(1))/h\n",
    "est"
   ]
  },
  {
   "cell_type": "code",
   "execution_count": 27,
   "id": "9a774f60",
   "metadata": {},
   "outputs": [
    {
     "data": {
      "text/plain": [
       "array([-2.55908596e-02, -2.68746457e-03, -2.70010885e-04, -2.70137126e-05,\n",
       "       -2.70150037e-06, -2.70089745e-07, -2.80611252e-08,  3.02511949e-09,\n",
       "       -1.30201643e-07, -3.52246248e-07, -3.52246248e-07, -7.80678580e-05,\n",
       "        1.03215517e-03, -2.29851391e-03, -4.67074349e-02,  8.41470985e-01,\n",
       "        8.41470985e-01])"
      ]
     },
     "execution_count": 27,
     "metadata": {},
     "output_type": "execute_result"
    }
   ],
   "source": [
    "err = est - (-math.sin(1))\n",
    "err"
   ]
  },
  {
   "cell_type": "code",
   "execution_count": 28,
   "id": "0fa57c8b",
   "metadata": {},
   "outputs": [
    {
     "name": "stdout",
     "output_type": "stream",
     "text": [
      "0.1 -0.8670618444256245 -0.025590859617728\n",
      "0.01 -0.8441584493784293 -0.002687464570532816\n",
      "0.001 -0.8417409956931188 -0.00027001088522227157\n",
      "0.0001 -0.8414979985205129 -2.7013712616374974e-05\n",
      "1e-05 -0.8414736863082694 -2.701500372848109e-06\n",
      "1e-06 -0.8414712548976411 -2.7008974456954604e-07\n",
      "1e-07 -0.8414710128690217 -2.8061125201261916e-08\n",
      "1e-08 -0.841470981782777 3.025119488242467e-09\n",
      "1e-09 -0.84147111500954 -1.3020164346677632e-07\n",
      "1e-10 -0.8414713370541449 -3.522462483918076e-07\n",
      "1e-11 -0.8414713370541449 -3.522462483918076e-07\n",
      "1e-12 -0.8415490526658687 -7.806785797215277e-05\n",
      "1e-13 -0.8404388296412435 0.0010321551666530038\n",
      "1e-14 -0.843769498715119 -0.002298513907222466\n",
      "1e-15 -0.8881784197001251 -0.046707434892228616\n",
      "1e-16 0.0 0.8414709848078965\n",
      "1e-17 0.0 0.8414709848078965\n"
     ]
    }
   ],
   "source": [
    "for hk,estk,errk in zip(h,est,err):\n",
    "    print(hk,estk,errk)"
   ]
  },
  {
   "cell_type": "code",
   "execution_count": 30,
   "id": "d69c9126",
   "metadata": {},
   "outputs": [
    {
     "data": {
      "text/plain": [
       "'1.000000e-17 0.000000e+00 $8.414710e-01'"
      ]
     },
     "execution_count": 30,
     "metadata": {},
     "output_type": "execute_result"
    }
   ],
   "source": [
    "'%e %e $%e' % (hk, estk, errk)"
   ]
  },
  {
   "cell_type": "code",
   "execution_count": 31,
   "id": "a92c33f6",
   "metadata": {},
   "outputs": [
    {
     "data": {
      "text/plain": [
       "'with h = 1e-17 the derivative estimate is 0.0 with error 0.8414709848078965'"
      ]
     },
     "execution_count": 31,
     "metadata": {},
     "output_type": "execute_result"
    }
   ],
   "source": [
    "f'with h = {hk} the derivative estimate is {estk} with error {errk}'"
   ]
  },
  {
   "cell_type": "code",
   "execution_count": 33,
   "id": "15afce15",
   "metadata": {},
   "outputs": [
    {
     "data": {
      "text/plain": [
       "'with h = 1e-17 the derivative estimate is  0.00000000000000000 with error 0.8414709848078965'"
      ]
     },
     "execution_count": 33,
     "metadata": {},
     "output_type": "execute_result"
    }
   ],
   "source": [
    "f'with h = {hk:5.0e} the derivative estimate is {estk:20.17f} with error {errk:.17g}'"
   ]
  },
  {
   "cell_type": "code",
   "execution_count": 39,
   "id": "ad5e0a82",
   "metadata": {},
   "outputs": [
    {
     "name": "stdout",
     "output_type": "stream",
     "text": [
      "with h = 1e-01 the derivative estimate is -0.86706184442562451 with error -0.02559085961772800\n",
      "with h = 1e-02 the derivative estimate is -0.84415844937842932 with error -0.00268746457053282\n",
      "with h = 1e-03 the derivative estimate is -0.84174099569311878 with error -0.00027001088522227\n",
      "with h = 1e-04 the derivative estimate is -0.84149799852051288 with error -0.00002701371261637\n",
      "with h = 1e-05 the derivative estimate is -0.84147368630826935 with error -0.00000270150037285\n",
      "with h = 1e-06 the derivative estimate is -0.84147125489764107 with error -0.00000027008974457\n",
      "with h = 1e-07 the derivative estimate is -0.84147101286902171 with error -0.00000002806112520\n",
      "with h = 1e-08 the derivative estimate is -0.84147098178277702 with error  0.00000000302511949\n",
      "with h = 1e-09 the derivative estimate is -0.84147111500953997 with error -0.00000013020164347\n",
      "with h = 1e-10 the derivative estimate is -0.84147133705414490 with error -0.00000035224624839\n",
      "with h = 1e-11 the derivative estimate is -0.84147133705414490 with error -0.00000035224624839\n",
      "with h = 1e-12 the derivative estimate is -0.84154905266586866 with error -0.00007806785797215\n",
      "with h = 1e-13 the derivative estimate is -0.84043882964124350 with error  0.00103215516665300\n",
      "with h = 1e-14 the derivative estimate is -0.84376949871511897 with error -0.00229851390722247\n",
      "with h = 1e-15 the derivative estimate is -0.88817841970012512 with error -0.04670743489222862\n",
      "with h = 1e-16 the derivative estimate is  0.00000000000000000 with error  0.84147098480789650\n",
      "with h = 1e-17 the derivative estimate is  0.00000000000000000 with error  0.84147098480789650\n"
     ]
    }
   ],
   "source": [
    "for hk,estk,errk in zip(h,est,err):\n",
    "    print(f'with h = {hk:5.0e} the derivative estimate is {estk:20.17f} with error {errk:20.17f}')"
   ]
  },
  {
   "cell_type": "code",
   "execution_count": 41,
   "id": "c1e1c77d",
   "metadata": {},
   "outputs": [
    {
     "data": {
      "text/plain": [
       "2.9802322387695312e-08"
      ]
     },
     "execution_count": 41,
     "metadata": {},
     "output_type": "execute_result"
    }
   ],
   "source": [
    "hpt = 2 * 2**-26 \n",
    "hpt"
   ]
  },
  {
   "cell_type": "code",
   "execution_count": 46,
   "id": "f173fd50",
   "metadata": {},
   "outputs": [
    {
     "data": {
      "text/plain": [
       "'-0.00000000924737464'"
      ]
     },
     "execution_count": 46,
     "metadata": {},
     "output_type": "execute_result"
    }
   ],
   "source": [
    "f'{(math.cos(1+hpt) - math.cos(1))/hpt + math.sin(1):20.17f}'"
   ]
  },
  {
   "cell_type": "code",
   "execution_count": null,
   "id": "59dd2df8",
   "metadata": {},
   "outputs": [],
   "source": []
  }
 ],
 "metadata": {
  "kernelspec": {
   "display_name": "Python 3 (ipykernel)",
   "language": "python",
   "name": "python3"
  },
  "language_info": {
   "codemirror_mode": {
    "name": "ipython",
    "version": 3
   },
   "file_extension": ".py",
   "mimetype": "text/x-python",
   "name": "python",
   "nbconvert_exporter": "python",
   "pygments_lexer": "ipython3",
   "version": "3.9.12"
  }
 },
 "nbformat": 4,
 "nbformat_minor": 5
}
