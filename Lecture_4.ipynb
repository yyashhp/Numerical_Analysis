{
 "cells": [
  {
   "cell_type": "markdown",
   "id": "f13d10d3",
   "metadata": {},
   "source": [
    "# 1/24 First class lecture 4"
   ]
  },
  {
   "cell_type": "code",
   "execution_count": 2,
   "id": "55d027c9",
   "metadata": {},
   "outputs": [],
   "source": [
    "#array is a core module"
   ]
  },
  {
   "cell_type": "code",
   "execution_count": 3,
   "id": "510fc97e",
   "metadata": {},
   "outputs": [],
   "source": [
    "from array import array"
   ]
  },
  {
   "cell_type": "code",
   "execution_count": 4,
   "id": "f5a10c84",
   "metadata": {},
   "outputs": [],
   "source": [
    "# tpl -> (obj1, obj2)     Immutable"
   ]
  },
  {
   "cell_type": "code",
   "execution_count": 7,
   "id": "a66a8f91",
   "metadata": {},
   "outputs": [
    {
     "data": {
      "text/plain": [
       "([1, 2, 3], [4, 5, 6])"
      ]
     },
     "execution_count": 7,
     "metadata": {},
     "output_type": "execute_result"
    }
   ],
   "source": [
    "item1 = [1,2,3]\n",
    "item2 = [4,5,6]\n",
    "tp1 = (item1,item2)\n",
    "tp1"
   ]
  },
  {
   "cell_type": "code",
   "execution_count": 8,
   "id": "93dd00d4",
   "metadata": {},
   "outputs": [
    {
     "ename": "TypeError",
     "evalue": "'tuple' object does not support item assignment",
     "output_type": "error",
     "traceback": [
      "\u001b[0;31m---------------------------------------------------------------------------\u001b[0m",
      "\u001b[0;31mTypeError\u001b[0m                                 Traceback (most recent call last)",
      "Input \u001b[0;32mIn [8]\u001b[0m, in \u001b[0;36m<cell line: 1>\u001b[0;34m()\u001b[0m\n\u001b[0;32m----> 1\u001b[0m tp1[\u001b[38;5;241m0\u001b[39m] \u001b[38;5;241m=\u001b[39m \u001b[38;5;124m'\u001b[39m\u001b[38;5;124mbob\u001b[39m\u001b[38;5;124m'\u001b[39m\n",
      "\u001b[0;31mTypeError\u001b[0m: 'tuple' object does not support item assignment"
     ]
    }
   ],
   "source": [
    "tp1[0] = 'bob'\n",
    "#we can see this is immutable"
   ]
  },
  {
   "cell_type": "code",
   "execution_count": 9,
   "id": "2e5c7fe7",
   "metadata": {},
   "outputs": [
    {
     "data": {
      "text/plain": [
       "([1, 2, 3, 4], [4, 5, 6])"
      ]
     },
     "execution_count": 9,
     "metadata": {},
     "output_type": "execute_result"
    }
   ],
   "source": [
    "#The tuple is immutable but the individual lists are not\n",
    "\n",
    "tp1[0].append(4)\n",
    "tp1"
   ]
  },
  {
   "cell_type": "code",
   "execution_count": 10,
   "id": "ad31ae16",
   "metadata": {},
   "outputs": [
    {
     "data": {
      "text/plain": [
       "array('f', [1.0, 2.0, 3.0])"
      ]
     },
     "execution_count": 10,
     "metadata": {},
     "output_type": "execute_result"
    }
   ],
   "source": [
    "rowf = array('f', [1,2,3])\n",
    "rowf"
   ]
  },
  {
   "cell_type": "code",
   "execution_count": 11,
   "id": "2a1fedd1",
   "metadata": {},
   "outputs": [
    {
     "data": {
      "text/plain": [
       "float"
      ]
     },
     "execution_count": 11,
     "metadata": {},
     "output_type": "execute_result"
    }
   ],
   "source": [
    "type(rowf[1])\n",
    "#It is saved as a float but we entered as an int"
   ]
  },
  {
   "cell_type": "code",
   "execution_count": 12,
   "id": "65ffc857",
   "metadata": {},
   "outputs": [
    {
     "data": {
      "text/plain": [
       "array('f', [0.20000000298023224, 0.30000001192092896, 0.699999988079071])"
      ]
     },
     "execution_count": 12,
     "metadata": {},
     "output_type": "execute_result"
    }
   ],
   "source": [
    "rowf = array('f',[0.2,0.3,0.7])\n",
    "rowf"
   ]
  },
  {
   "cell_type": "code",
   "execution_count": 13,
   "id": "c9464684",
   "metadata": {},
   "outputs": [
    {
     "data": {
      "text/plain": [
       "'0x1.3333340000000p-2'"
      ]
     },
     "execution_count": 13,
     "metadata": {},
     "output_type": "execute_result"
    }
   ],
   "source": [
    "rowf[1].hex()"
   ]
  },
  {
   "cell_type": "code",
   "execution_count": null,
   "id": "9e86e8da",
   "metadata": {},
   "outputs": [],
   "source": [
    "#16 places of accuracy with 64bit, 8 places of accuracy with 32 bit"
   ]
  },
  {
   "cell_type": "code",
   "execution_count": 14,
   "id": "287f0758",
   "metadata": {},
   "outputs": [
    {
     "data": {
      "text/plain": [
       "array('f', [0.20000000298023224, 0.30000001192092896, 0.699999988079071, 3.0, 4.0, 5.0])"
      ]
     },
     "execution_count": 14,
     "metadata": {},
     "output_type": "execute_result"
    }
   ],
   "source": [
    "rowf.extend([3,4,5])\n",
    "rowf"
   ]
  },
  {
   "cell_type": "code",
   "execution_count": 16,
   "id": "fe668d3f",
   "metadata": {},
   "outputs": [
    {
     "name": "stdout",
     "output_type": "stream",
     "text": [
      "(140305711698512, 3)\n",
      "(140306794388848, 6)\n"
     ]
    }
   ],
   "source": [
    "rowf = array('f', [.2,.3,.7])\n",
    "print(rowf.buffer_info())\n",
    "rowf.extend([1,2,3])\n",
    "print(rowf.buffer_info())\n"
   ]
  },
  {
   "cell_type": "code",
   "execution_count": 17,
   "id": "d71e0ba9",
   "metadata": {},
   "outputs": [],
   "source": [
    "import numpy as np"
   ]
  },
  {
   "cell_type": "code",
   "execution_count": 18,
   "id": "b5292fe2",
   "metadata": {},
   "outputs": [
    {
     "data": {
      "text/plain": [
       "[[1, 2, 3], [1, 2, 3], [1, 2, 3]]"
      ]
     },
     "execution_count": 18,
     "metadata": {},
     "output_type": "execute_result"
    }
   ],
   "source": [
    "row = [1,2,3]\n",
    "mat = [row,row,row]\n",
    "mat"
   ]
  },
  {
   "cell_type": "code",
   "execution_count": 19,
   "id": "a4aee673",
   "metadata": {},
   "outputs": [
    {
     "data": {
      "text/plain": [
       "[[1, 2, 7], [1, 2, 7], [1, 2, 7]]"
      ]
     },
     "execution_count": 19,
     "metadata": {},
     "output_type": "execute_result"
    }
   ],
   "source": [
    "mat[1][2] = 7\n",
    "mat\n",
    "#since each row is from the same memory, changing an element in one row will change it in all rows"
   ]
  },
  {
   "cell_type": "code",
   "execution_count": 20,
   "id": "77f91eaa",
   "metadata": {},
   "outputs": [
    {
     "data": {
      "text/plain": [
       "array([[0.2, 0.3, 0.7, 1. , 2. , 3. ],\n",
       "       [0.2, 0.3, 0.7, 1. , 2. , 3. ],\n",
       "       [0.2, 0.3, 0.7, 1. , 2. , 3. ]], dtype=float32)"
      ]
     },
     "execution_count": 20,
     "metadata": {},
     "output_type": "execute_result"
    }
   ],
   "source": [
    "mat = np.array([rowf,rowf,rowf])\n",
    "mat"
   ]
  },
  {
   "cell_type": "code",
   "execution_count": 22,
   "id": "b9aeab0a",
   "metadata": {},
   "outputs": [
    {
     "data": {
      "text/plain": [
       "array([[0.2, 0.3, 0.7, 1. , 2. , 3. ],\n",
       "       [0.2, 0.3, 0.7, 1. , 2. , 3. ],\n",
       "       [0.2, 0.3, 0.7, 1. , 2. , 3. ]], dtype=float32)"
      ]
     },
     "execution_count": 22,
     "metadata": {},
     "output_type": "execute_result"
    }
   ],
   "source": [
    "rowf[-1] = 7\n",
    "mat #stays the same since it was initialized as a copy"
   ]
  },
  {
   "cell_type": "code",
   "execution_count": 23,
   "id": "a982ff85",
   "metadata": {},
   "outputs": [
    {
     "data": {
      "text/plain": [
       "array([[0.2, 0.3, 0.7, 1. , 2. , 3. ],\n",
       "       [0.2, 0.3, 7. , 1. , 2. , 3. ],\n",
       "       [0.2, 0.3, 0.7, 1. , 2. , 3. ]], dtype=float32)"
      ]
     },
     "execution_count": 23,
     "metadata": {},
     "output_type": "execute_result"
    }
   ],
   "source": [
    "mat[1,2] = 7\n",
    "mat #just the one has changed"
   ]
  },
  {
   "cell_type": "code",
   "execution_count": 26,
   "id": "92ee6e8b",
   "metadata": {},
   "outputs": [],
   "source": [
    "from math import pi "
   ]
  },
  {
   "cell_type": "code",
   "execution_count": 29,
   "id": "5a3f561b",
   "metadata": {},
   "outputs": [],
   "source": [
    "lin = np.linspace(0,2*pi,361) #linspace provides c-1 evenly spaced intervals from a to b\n",
    "lin\n",
    "c = np.cos(lin) #applies cosine operation to each element individually\n",
    "s = np.sin(lin)"
   ]
  },
  {
   "cell_type": "code",
   "execution_count": 30,
   "id": "a035e278",
   "metadata": {},
   "outputs": [],
   "source": [
    "import matplotlib.pyplot as plt"
   ]
  },
  {
   "cell_type": "code",
   "execution_count": 31,
   "id": "22be6575",
   "metadata": {},
   "outputs": [
    {
     "data": {
      "text/plain": [
       "[<matplotlib.lines.Line2D at 0x7f9bb9138550>]"
      ]
     },
     "execution_count": 31,
     "metadata": {},
     "output_type": "execute_result"
    },
    {
     "data": {
      "image/png": "[encoded data removed]",
      "text/plain": [
       "<Figure size 432x288 with 1 Axes>"
      ]
     },
     "metadata": {
      "needs_background": "light"
     },
     "output_type": "display_data"
    }
   ],
   "source": [
    "plt.plot(c,s)"
   ]
  },
  {
   "cell_type": "code",
   "execution_count": 34,
   "id": "14554eb8",
   "metadata": {},
   "outputs": [
    {
     "data": {
      "text/plain": [
       "(-1.2100000000000002,\n",
       " 1.2100000000000002,\n",
       " -1.2100000000000002,\n",
       " 1.2100000000000002)"
      ]
     },
     "execution_count": 34,
     "metadata": {},
     "output_type": "execute_result"
    },
    {
     "data": {
      "image/png": "[encoded data removed]",
      "text/plain": [
       "<Figure size 432x288 with 1 Axes>"
      ]
     },
     "metadata": {
      "needs_background": "light"
     },
     "output_type": "display_data"
    }
   ],
   "source": [
    "plt.plot(c,s)\n",
    "plt.plot([-1.1,1.1],[0,0], color='k',lw=0.5)\n",
    "plt.plot([0,0],[-1.1,1.1], color='k',lw=0.5)\n",
    "plt.axis('equal')"
   ]
  },
  {
   "cell_type": "code",
   "execution_count": 36,
   "id": "d03333fc",
   "metadata": {},
   "outputs": [
    {
     "data": {
      "text/plain": [
       "dtype('int64')"
      ]
     },
     "execution_count": 36,
     "metadata": {},
     "output_type": "execute_result"
    }
   ],
   "source": [
    "x=np.array([1,2,3])\n",
    "x.dtype"
   ]
  },
  {
   "cell_type": "code",
   "execution_count": 37,
   "id": "b988c3ae",
   "metadata": {},
   "outputs": [
    {
     "data": {
      "text/plain": [
       "dtype('float64')"
      ]
     },
     "execution_count": 37,
     "metadata": {},
     "output_type": "execute_result"
    }
   ],
   "source": [
    "x=np.array([1.,2,3]) #the dot makes everything a float type\n",
    "x.dtype"
   ]
  }
 ],
 "metadata": {
  "kernelspec": {
   "display_name": "Python 3 (ipykernel)",
   "language": "python",
   "name": "python3"
  },
  "language_info": {
   "codemirror_mode": {
    "name": "ipython",
    "version": 3
   },
   "file_extension": ".py",
   "mimetype": "text/x-python",
   "name": "python",
   "nbconvert_exporter": "python",
   "pygments_lexer": "ipython3",
   "version": "3.9.12"
  }
 },
 "nbformat": 4,
 "nbformat_minor": 5
}
