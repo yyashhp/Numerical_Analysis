{
 "cells": [
  {
   "cell_type": "code",
   "execution_count": 6,
   "id": "8fd7252b",
   "metadata": {},
   "outputs": [],
   "source": [
    "import math, numpy as np, pandas as pd\n",
    "import matplotlib.pyplot as plt"
   ]
  },
  {
   "cell_type": "code",
   "execution_count": 1,
   "id": "98ff3d63",
   "metadata": {},
   "outputs": [],
   "source": [
    "def f(a):\n",
    "    print(id(a))\n",
    "    a.append('joe')\n",
    "    print(id(a))"
   ]
  },
  {
   "cell_type": "code",
   "execution_count": 2,
   "id": "8c9af652",
   "metadata": {},
   "outputs": [
    {
     "data": {
      "text/plain": [
       "140323698688192"
      ]
     },
     "execution_count": 2,
     "metadata": {},
     "output_type": "execute_result"
    }
   ],
   "source": [
    "c = ['bob']\n",
    "id(c)"
   ]
  },
  {
   "cell_type": "code",
   "execution_count": 3,
   "id": "b3f87eab",
   "metadata": {},
   "outputs": [
    {
     "name": "stdout",
     "output_type": "stream",
     "text": [
      "140323698688192\n",
      "140323698688192\n"
     ]
    }
   ],
   "source": [
    "f(c)"
   ]
  },
  {
   "cell_type": "markdown",
   "id": "f9a6ac0e",
   "metadata": {},
   "source": [
    "### you update the object that c refers to, did not change address"
   ]
  },
  {
   "cell_type": "code",
   "execution_count": 5,
   "id": "01419316",
   "metadata": {},
   "outputs": [],
   "source": [
    "def f(x,r=4):\n",
    "    return r*x*(1-x)\n",
    "def g(x,r=4):\n",
    "    return r*(x-x**2) #Mathematically, these are the same fxns but they round differently at times"
   ]
  },
  {
   "cell_type": "code",
   "execution_count": 7,
   "id": "899c88b3",
   "metadata": {},
   "outputs": [
    {
     "data": {
      "text/plain": [
       "[<matplotlib.lines.Line2D at 0x7f9fc9d4a9d0>]"
      ]
     },
     "execution_count": 7,
     "metadata": {},
     "output_type": "execute_result"
    },
    {
     "data": {
      "image/png": "[encoded data removed]",
      "text/plain": [
       "<Figure size 432x288 with 1 Axes>"
      ]
     },
     "metadata": {
      "needs_background": "light"
     },
     "output_type": "display_data"
    }
   ],
   "source": [
    "x = np.linspace(0,1,1000)\n",
    "plt.plot(x,f(x))"
   ]
  },
  {
   "cell_type": "markdown",
   "id": "958e0783",
   "metadata": {},
   "source": [
    "logistic eq:\n",
    "\n",
    "$$\n",
    "   f(x) = rx(1-x)\n",
    "$$\n",
    "$$\n",
    "r = 4, f(x) \\in (0,1)\n",
    "$$\n",
    "\n",
    "\n"
   ]
  },
  {
   "cell_type": "code",
   "execution_count": 8,
   "id": "fce7ba43",
   "metadata": {},
   "outputs": [
    {
     "data": {
      "text/plain": [
       "2.199999999999998"
      ]
     },
     "execution_count": 8,
     "metadata": {},
     "output_type": "execute_result"
    }
   ],
   "source": [
    "(f(0.25)-f(0.20))/(0.25 - 0.20) #this function magnifies error"
   ]
  },
  {
   "cell_type": "code",
   "execution_count": 10,
   "id": "6b138060",
   "metadata": {},
   "outputs": [
    {
     "data": {
      "text/plain": [
       "array([2.00000000e-01, 6.40000000e-01, 9.21600000e-01, 2.89013760e-01,\n",
       "       8.21939226e-01, 5.85420539e-01, 9.70813326e-01, 1.13339247e-01,\n",
       "       4.01973849e-01, 9.61563495e-01, 1.47836560e-01, 5.03923646e-01,\n",
       "       9.99938420e-01, 2.46304782e-04, 9.84976462e-04, 3.93602513e-03,\n",
       "       1.56821314e-02, 6.17448085e-02, 2.31729548e-01, 7.12123859e-01,\n",
       "       8.20013873e-01, 5.90364483e-01, 9.67337041e-01, 1.26384362e-01,\n",
       "       4.41645421e-01, 9.86378972e-01, 5.37419811e-02, 2.03415122e-01,\n",
       "       6.48149641e-01, 9.12206736e-01, 3.20342428e-01, 8.70892628e-01,\n",
       "       4.49754634e-01, 9.89901613e-01, 3.99856390e-02, 1.53547151e-01,\n",
       "       5.19881693e-01, 9.98418873e-01, 6.31450741e-03, 2.50985376e-02,\n",
       "       9.78744041e-02, 3.53180020e-01, 9.13775574e-01, 3.15159096e-01,\n",
       "       8.63335361e-01, 4.71949661e-01, 9.96852714e-01, 1.25495222e-02,\n",
       "       4.95681269e-02, 1.88444511e-01, 6.11732709e-01])"
      ]
     },
     "execution_count": 10,
     "metadata": {},
     "output_type": "execute_result"
    }
   ],
   "source": [
    "xs = [0.2]\n",
    "for k in range(50):\n",
    "    xs.append(f(xs[-1])) #creating a list this way\n",
    "xs = np.array(xs)\n",
    "xs"
   ]
  },
  {
   "cell_type": "code",
   "execution_count": 16,
   "id": "08759d66",
   "metadata": {},
   "outputs": [
    {
     "data": {
      "text/plain": [
       "array([2.00000000e-01, 6.40000000e-01, 9.21600000e-01, 2.89013760e-01,\n",
       "       8.21939226e-01, 5.85420539e-01, 9.70813326e-01, 1.13339247e-01,\n",
       "       4.01973849e-01, 9.61563495e-01, 1.47836560e-01, 5.03923646e-01,\n",
       "       9.99938420e-01, 2.46304782e-04, 9.84976462e-04, 3.93602513e-03,\n",
       "       1.56821314e-02, 6.17448085e-02, 2.31729548e-01, 7.12123859e-01,\n",
       "       8.20013873e-01, 5.90364483e-01, 9.67337041e-01, 1.26384362e-01,\n",
       "       4.41645420e-01, 9.86378972e-01, 5.37419830e-02, 2.03415129e-01,\n",
       "       6.48149658e-01, 9.12206716e-01, 3.20342494e-01, 8.70892722e-01,\n",
       "       4.49754354e-01, 9.89901500e-01, 3.99860808e-02, 1.53548777e-01,\n",
       "       5.19886199e-01, 9.98418156e-01, 6.31736564e-03, 2.51098261e-02,\n",
       "       9.79172911e-02, 3.53317981e-01, 9.13937541e-01, 3.14622849e-01,\n",
       "       8.62541248e-01, 4.74255375e-01, 9.97348857e-01, 1.05764570e-02,\n",
       "       4.18583821e-02, 1.60425032e-01, 5.38755364e-01])"
      ]
     },
     "execution_count": 16,
     "metadata": {},
     "output_type": "execute_result"
    }
   ],
   "source": [
    "ys = [0.2]\n",
    "for k in range(50):\n",
    "    ys.append(g(ys[-1])) #creating a list this way\n",
    "ys = np.array(ys)\n",
    "ys"
   ]
  },
  {
   "cell_type": "code",
   "execution_count": 13,
   "id": "a0057b5d",
   "metadata": {},
   "outputs": [],
   "source": [
    "from sympy import Rational"
   ]
  },
  {
   "cell_type": "code",
   "execution_count": 14,
   "id": "e33366ab",
   "metadata": {},
   "outputs": [
    {
     "data": {
      "text/latex": [
       "$\\displaystyle \\frac{1}{5}$"
      ],
      "text/plain": [
       "1/5"
      ]
     },
     "execution_count": 14,
     "metadata": {},
     "output_type": "execute_result"
    }
   ],
   "source": [
    "x0 = Rational(1,5)\n",
    "x0"
   ]
  },
  {
   "cell_type": "code",
   "execution_count": 19,
   "id": "0cde5779",
   "metadata": {},
   "outputs": [
    {
     "data": {
      "text/plain": [
       "array([2.00000000e-01, 6.40000000e-01, 9.21600000e-01, 2.89013760e-01,\n",
       "       8.21939226e-01, 5.85420539e-01, 9.70813326e-01, 1.13339247e-01,\n",
       "       4.01973849e-01, 9.61563495e-01, 1.47836560e-01, 5.03923646e-01,\n",
       "       9.99938420e-01, 2.46304782e-04, 9.84976462e-04, 3.93602513e-03,\n",
       "       1.56821314e-02, 6.17448085e-02, 2.31729548e-01, 7.12123859e-01,\n",
       "       8.20013873e-01, 5.90364483e-01, 9.67337041e-01, 1.26384362e-01,\n",
       "       4.41645420e-01, 9.86378972e-01, 5.37419830e-02, 2.03415129e-01,\n",
       "       6.48149658e-01, 9.12206716e-01, 3.20342494e-01, 8.70892722e-01,\n",
       "       4.49754354e-01, 9.89901500e-01, 3.99860808e-02, 1.53548777e-01,\n",
       "       5.19886199e-01, 9.98418156e-01, 6.31736564e-03, 2.51098261e-02,\n",
       "       9.79172911e-02, 3.53317981e-01, 9.13937541e-01, 3.14622849e-01,\n",
       "       8.62541248e-01, 4.74255375e-01, 9.97348857e-01, 1.05764570e-02,\n",
       "       4.18583821e-02, 1.60425032e-01, 5.38755364e-01])"
      ]
     },
     "execution_count": 19,
     "metadata": {},
     "output_type": "execute_result"
    }
   ],
   "source": [
    "zs = [x0]\n",
    "for k in range(10):\n",
    "    zs.append(f(zs[-1])) #creating a list this way\n",
    "zs = np.array(ys)\n",
    "zs"
   ]
  },
  {
   "cell_type": "markdown",
   "id": "bfdd3223",
   "metadata": {},
   "source": [
    "## Cancellation Error"
   ]
  },
  {
   "cell_type": "code",
   "execution_count": 21,
   "id": "7696828f",
   "metadata": {},
   "outputs": [],
   "source": [
    "from math import pi as π\n",
    "πest = 3.14159"
   ]
  },
  {
   "cell_type": "code",
   "execution_count": 22,
   "id": "bca1047e",
   "metadata": {},
   "outputs": [
    {
     "data": {
      "text/plain": [
       "'0x1.921fb54442d18p+1'"
      ]
     },
     "execution_count": 22,
     "metadata": {},
     "output_type": "execute_result"
    }
   ],
   "source": [
    "π.hex()"
   ]
  },
  {
   "cell_type": "code",
   "execution_count": 23,
   "id": "367fa8e3",
   "metadata": {},
   "outputs": [
    {
     "data": {
      "text/plain": [
       "'0x1.921f9f01b866ep+1'"
      ]
     },
     "execution_count": 23,
     "metadata": {},
     "output_type": "execute_result"
    }
   ],
   "source": [
    "πest.hex()"
   ]
  },
  {
   "cell_type": "code",
   "execution_count": 24,
   "id": "3bd22774",
   "metadata": {},
   "outputs": [
    {
     "data": {
      "text/plain": [
       "-2.6535897932333796e-06"
      ]
     },
     "execution_count": 24,
     "metadata": {},
     "output_type": "execute_result"
    }
   ],
   "source": [
    "πdiff = πest - π\n",
    "πdiff"
   ]
  },
  {
   "cell_type": "code",
   "execution_count": 25,
   "id": "0da5c52d",
   "metadata": {},
   "outputs": [
    {
     "data": {
      "text/plain": [
       "'-0x1.6428a6aa00000p-19'"
      ]
     },
     "execution_count": 25,
     "metadata": {},
     "output_type": "execute_result"
    }
   ],
   "source": [
    "πdiff.hex()"
   ]
  },
  {
   "cell_type": "markdown",
   "id": "5efacee7",
   "metadata": {},
   "source": [
    "## Quadratic Formula\n",
    "\n",
    "with a, b, and c constant, a does not equal 0\n",
    "\n",
    "$$\n",
    "   ax^2 + bx + c = 0\n",
    "$$\n",
    "\n",
    "are given by \n",
    "the quadratic formula"
   ]
  },
  {
   "cell_type": "code",
   "execution_count": 30,
   "id": "cb7e8bf5",
   "metadata": {},
   "outputs": [
    {
     "data": {
      "text/plain": [
       "(50000000.0, 2e-08)"
      ]
     },
     "execution_count": 30,
     "metadata": {},
     "output_type": "execute_result"
    }
   ],
   "source": [
    "λ1 = 5e7\n",
    "λ2 = 1/λ1\n",
    "λ1,λ2"
   ]
  },
  {
   "cell_type": "code",
   "execution_count": 31,
   "id": "80cad734",
   "metadata": {},
   "outputs": [
    {
     "data": {
      "text/plain": [
       "(1, -50000000.00000002, 1)"
      ]
     },
     "execution_count": 31,
     "metadata": {},
     "output_type": "execute_result"
    }
   ],
   "source": [
    "a,b,c = 1, -(λ1+λ2), 1\n",
    "a,b,c"
   ]
  },
  {
   "cell_type": "code",
   "execution_count": 32,
   "id": "b56e633a",
   "metadata": {},
   "outputs": [],
   "source": [
    "f = lambda x: a*x**2 + b*x + c"
   ]
  },
  {
   "cell_type": "code",
   "execution_count": 33,
   "id": "cc9d67fe",
   "metadata": {},
   "outputs": [
    {
     "data": {
      "text/plain": [
       "0.0"
      ]
     },
     "execution_count": 33,
     "metadata": {},
     "output_type": "execute_result"
    }
   ],
   "source": [
    "f(λ1)"
   ]
  },
  {
   "cell_type": "code",
   "execution_count": 34,
   "id": "46c7ab9e",
   "metadata": {},
   "outputs": [
    {
     "data": {
      "text/plain": [
       "0.0"
      ]
     },
     "execution_count": 34,
     "metadata": {},
     "output_type": "execute_result"
    }
   ],
   "source": [
    "f(λ2)"
   ]
  },
  {
   "cell_type": "code",
   "execution_count": 36,
   "id": "8b4e1315",
   "metadata": {},
   "outputs": [],
   "source": [
    "def quadratic_formula(a,b,c):\n",
    "    dsc = b**2 - 4*a*c\n",
    "    if dsc>=0:\n",
    "        rad = math.sqrt(dsc)\n",
    "        return (-b+rad)/(2*a),(-b-rad)/(2*a)\n",
    "    else:\n",
    "        rad = math.sqrt(-dsc)\n",
    "        return (-b+rad*1j)/(2*a),(-b-rad*1j)/(2*a)"
   ]
  },
  {
   "cell_type": "code",
   "execution_count": 37,
   "id": "1a3b2d7c",
   "metadata": {},
   "outputs": [
    {
     "data": {
      "text/plain": [
       "(1j, -1j)"
      ]
     },
     "execution_count": 37,
     "metadata": {},
     "output_type": "execute_result"
    }
   ],
   "source": [
    "quadratic_formula(1,0,1) #roots are +-i"
   ]
  },
  {
   "cell_type": "code",
   "execution_count": 38,
   "id": "6d541c34",
   "metadata": {},
   "outputs": [
    {
     "data": {
      "text/plain": [
       "((-0.5+0.8660254037844386j), (-0.5-0.8660254037844386j))"
      ]
     },
     "execution_count": 38,
     "metadata": {},
     "output_type": "execute_result"
    }
   ],
   "source": [
    "quadratic_formula(1,1,1)"
   ]
  },
  {
   "cell_type": "code",
   "execution_count": 39,
   "id": "03c208b6",
   "metadata": {},
   "outputs": [
    {
     "data": {
      "text/plain": [
       "(50000000.0, 2.2351741790771484e-08)"
      ]
     },
     "execution_count": 39,
     "metadata": {},
     "output_type": "execute_result"
    }
   ],
   "source": [
    "r1,r2 = quadratic_formula(a,b,c)\n",
    "r1, r2"
   ]
  },
  {
   "cell_type": "code",
   "execution_count": 40,
   "id": "6f4478da",
   "metadata": {},
   "outputs": [
    {
     "data": {
      "text/plain": [
       "0.0"
      ]
     },
     "execution_count": 40,
     "metadata": {},
     "output_type": "execute_result"
    }
   ],
   "source": [
    "(r1-λ1)/λ1"
   ]
  },
  {
   "cell_type": "code",
   "execution_count": 41,
   "id": "da91ac3a",
   "metadata": {},
   "outputs": [
    {
     "data": {
      "text/plain": [
       "0.11758708953857419"
      ]
     },
     "execution_count": 41,
     "metadata": {},
     "output_type": "execute_result"
    }
   ],
   "source": [
    "(r2-λ2)/λ2"
   ]
  }
 ],
 "metadata": {
  "kernelspec": {
   "display_name": "Python 3 (ipykernel)",
   "language": "python",
   "name": "python3"
  },
  "language_info": {
   "codemirror_mode": {
    "name": "ipython",
    "version": 3
   },
   "file_extension": ".py",
   "mimetype": "text/x-python",
   "name": "python",
   "nbconvert_exporter": "python",
   "pygments_lexer": "ipython3",
   "version": "3.9.12"
  }
 },
 "nbformat": 4,
 "nbformat_minor": 5
}
